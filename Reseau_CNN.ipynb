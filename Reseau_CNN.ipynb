{
  "cells": [
    {
      "cell_type": "markdown",
      "metadata": {
        "id": "w4x_JO6sZVSQ"
      },
      "source": [
        "# **Analyse du DataSet**\n"
      ]
    },
    {
      "cell_type": "markdown",
      "metadata": {
        "id": "SNJTQEF6Zf5j"
      },
      "source": [
        "## **Télécharger les données**"
      ]
    },
    {
      "cell_type": "code",
      "execution_count": 1,
      "metadata": {
        "colab": {
          "base_uri": "https://localhost:8080/"
        },
        "collapsed": true,
        "id": "yrgzuSnMZqJj",
        "outputId": "f2d4f956-0ccf-49de-85c0-5d70e2805255"
      },
      "outputs": [],
      "source": [
        "import os\n",
        "import random\n",
        "import shutil\n",
        "import tensorflow as tf\n",
        "import numpy as np\n",
        "from tensorflow.keras.utils import Sequence\n",
        "from sklearn.model_selection import train_test_split\n",
        "import matplotlib.pyplot as plt\n",
        "from tensorflow.keras.models import Sequential\n",
        "from tensorflow.keras.layers import Conv2D, MaxPooling2D, Flatten, Dense, Dropout\n",
        "from tensorflow.keras.optimizers import Adam\n",
        "from sklearn.metrics import confusion_matrix, ConfusionMatrixDisplay"
      ]
    },
    {
      "cell_type": "code",
      "execution_count": 2,
      "metadata": {
        "id": "vg7kjFz9Zo-y"
      },
      "outputs": [],
      "source": [
        "path_to_dataset = 'dataset_equilibre'"
      ]
    },
    {
      "cell_type": "code",
      "execution_count": 3,
      "metadata": {
        "id": "uQTQv0OmboH9"
      },
      "outputs": [],
      "source": [
        "def set_category(path_to_dataset):\n",
        "  return os.listdir(path_to_dataset)"
      ]
    },
    {
      "cell_type": "code",
      "execution_count": 4,
      "metadata": {
        "id": "Ld5U1hFsanfS"
      },
      "outputs": [],
      "source": [
        "def load_category(path_to_dataset,category):\n",
        "  return f\"{path_to_dataset}/{category}\""
      ]
    },
    {
      "cell_type": "code",
      "execution_count": null,
      "metadata": {
        "colab": {
          "base_uri": "https://localhost:8080/"
        },
        "id": "xmqkS7N2bUK-",
        "outputId": "9e831a6c-22da-4209-ee0e-3d4670b882e7"
      },
      "outputs": [],
      "source": [
        "print(load_category(path_to_dataset,\"Academic_Art\"))"
      ]
    },
    {
      "cell_type": "code",
      "execution_count": null,
      "metadata": {
        "colab": {
          "base_uri": "https://localhost:8080/"
        },
        "id": "PPpQ7mH7baoR",
        "outputId": "2400de26-e9f6-4e43-c187-a8f0a88e698b"
      },
      "outputs": [],
      "source": [
        "categories = set_category(path_to_dataset)\n",
        "path_to_categories = []\n",
        "\n",
        "for category in categories:\n",
        "  path_to_categories.append(load_category(path_to_dataset,category))\n",
        "\n",
        "print(path_to_categories)"
      ]
    },
    {
      "cell_type": "code",
      "execution_count": null,
      "metadata": {
        "colab": {
          "base_uri": "https://localhost:8080/"
        },
        "id": "AoEL_iUNgRfK",
        "outputId": "ffc1cf95-0d95-4895-f8f6-3167aba98622"
      },
      "outputs": [],
      "source": [
        "# Paramètres globaux\n",
        "IMG_SIZE = (224, 224)\n",
        "BATCH_SIZE = 64\n",
        "\n",
        "# Fonction pour charger et prétraiter une image\n",
        "def load_image(img_path):\n",
        "    img = tf.keras.preprocessing.image.load_img(img_path, target_size=IMG_SIZE)\n",
        "    img_array = tf.keras.preprocessing.image.img_to_array(img)\n",
        "    img_array = img_array / 255.0  # Normalisation\n",
        "    return img_array\n",
        "\n",
        "# Préparer les chemins et les labels\n",
        "def prepare_data(path_to_categories):\n",
        "    image_paths = []\n",
        "    labels = []\n",
        "    class_names = [os.path.basename(cat_path) for cat_path in path_to_categories]\n",
        "\n",
        "    for label, category_path in enumerate(path_to_categories):\n",
        "        images = [os.path.join(category_path, img) for img in os.listdir(category_path) if img.endswith(('png', 'jpg', 'jpeg'))]\n",
        "        image_paths.extend(images)\n",
        "        labels.extend([label] * len(images))\n",
        "\n",
        "    return image_paths, labels, class_names\n",
        "\n",
        "image_paths, labels, class_names = prepare_data(path_to_categories)\n",
        "print(f\"Classes disponibles : {class_names}\")\n",
        "print(f\"Nombre total d'images : {len(image_paths)}\")"
      ]
    },
    {
      "cell_type": "markdown",
      "metadata": {
        "id": "tPVMPEwRk9G2"
      },
      "source": [
        "## **DataGenerator création**"
      ]
    },
    {
      "cell_type": "code",
      "execution_count": 8,
      "metadata": {
        "id": "Je5C4j9tgn4S"
      },
      "outputs": [],
      "source": [
        "# Création d'un data generator personnalisé avec super().__init__()\n",
        "class CustomDataGenerator(Sequence):\n",
        "    def __init__(self, image_paths, labels, batch_size, shuffle=True, **kwargs):\n",
        "        super().__init__(**kwargs)\n",
        "        self.image_paths = image_paths\n",
        "        self.labels = labels\n",
        "        self.batch_size = batch_size\n",
        "        self.shuffle = shuffle\n",
        "        self.on_epoch_end()\n",
        "\n",
        "    def __len__(self):\n",
        "        return int(np.ceil(len(self.image_paths) / self.batch_size))\n",
        "\n",
        "    def __getitem__(self, index):\n",
        "        start = index * self.batch_size\n",
        "        end = (index + 1) * self.batch_size\n",
        "        batch_image_paths = self.image_paths[start:end]\n",
        "        batch_labels = self.labels[start:end]\n",
        "\n",
        "        images = np.array([load_image(img_path) for img_path in batch_image_paths])\n",
        "        labels = tf.keras.utils.to_categorical(batch_labels, num_classes=len(set(self.labels)))\n",
        "        return images, labels\n",
        "\n",
        "    def on_epoch_end(self):\n",
        "        if self.shuffle:\n",
        "            temp = list(zip(self.image_paths, self.labels))\n",
        "            np.random.shuffle(temp)\n",
        "            self.image_paths, self.labels = zip(*temp)\n"
      ]
    },
    {
      "cell_type": "code",
      "execution_count": null,
      "metadata": {
        "colab": {
          "base_uri": "https://localhost:8080/",
          "height": 829
        },
        "id": "x9Mlg1G2gn3P",
        "outputId": "af58d34f-d753-4cd8-98f0-9e34f03d604c"
      },
      "outputs": [],
      "source": [
        "# Séparer les données en ensembles d'entraînement et de validation\n",
        "train_paths, val_paths, train_labels, val_labels = train_test_split(\n",
        "    image_paths, labels, test_size=0.2, random_state=123, stratify=labels\n",
        ")\n",
        "\n",
        "# Instancier les générateurs\n",
        "generator_train = CustomDataGenerator(train_paths, train_labels, BATCH_SIZE)\n",
        "generator_val = CustomDataGenerator(val_paths, val_labels, BATCH_SIZE)\n",
        "\n",
        "# Exemple de visualisation\n",
        "for images, labels in generator_train:\n",
        "    plt.figure(figsize=(10, 10))\n",
        "    for i in range(9):\n",
        "        ax = plt.subplot(3, 3, i + 1)\n",
        "        plt.imshow(images[i])\n",
        "        plt.title(class_names[np.argmax(labels[i])])\n",
        "        plt.axis(\"off\")\n",
        "    break\n"
      ]
    },
    {
      "cell_type": "markdown",
      "metadata": {
        "id": "4m82v47KhiF5"
      },
      "source": [
        "# **Création du modèle**"
      ]
    },
    {
      "cell_type": "code",
      "execution_count": null,
      "metadata": {
        "colab": {
          "base_uri": "https://localhost:8080/"
        },
        "id": "FZIHbbYpjDCb",
        "outputId": "ada48faa-1e4d-4fc8-e095-5f3d76a82378"
      },
      "outputs": [],
      "source": [
        "# Création du modèle CNN\n",
        "cnn_model = Sequential([\n",
        "    Conv2D(32, (3, 3), activation='relu', input_shape=(IMG_SIZE[0], IMG_SIZE[1], 3)),\n",
        "    MaxPooling2D(pool_size=(2, 2)),\n",
        "    Conv2D(64, (3, 3), activation='relu'),\n",
        "    MaxPooling2D(pool_size=(2, 2)),\n",
        "    Conv2D(128, (3, 3), activation='relu'),\n",
        "    MaxPooling2D(pool_size=(2, 2)),\n",
        "    Flatten(),\n",
        "    Dense(128, activation='relu'),\n",
        "    Dropout(0.5),\n",
        "    Dense(len(class_names), activation='softmax')\n",
        "])\n",
        "\n",
        "# Compilation du modèle\n",
        "cnn_model.compile(\n",
        "    optimizer=Adam(learning_rate=0.001),\n",
        "    loss='categorical_crossentropy',\n",
        "    metrics=['accuracy']\n",
        ")\n",
        "\n",
        "# Entraînement du modèle\n",
        "cnn_history = cnn_model.fit(\n",
        "    generator_train,\n",
        "    validation_data=generator_val,\n",
        "    epochs=6,\n",
        "    steps_per_epoch=len(generator_train),\n",
        "    validation_steps=len(generator_val)\n",
        ")"
      ]
    },
    {
      "cell_type": "code",
      "execution_count": null,
      "metadata": {
        "id": "0PmtYgJImW3q"
      },
      "outputs": [],
      "source": [
        "# Évaluation du modèle\n",
        "val_loss, val_accuracy = cnn_model.evaluate(generator_val)\n",
        "print(f\"Validation Loss (CNN): {val_loss}\")\n",
        "print(f\"Validation Accuracy (CNN): {val_accuracy}\")"
      ]
    },
    {
      "cell_type": "code",
      "execution_count": null,
      "metadata": {
        "id": "EimRMax5mdT-"
      },
      "outputs": [],
      "source": [
        "y_true = []\n",
        "y_pred = []\n",
        "num_batches = 150  # Nombre maximum de lots à tester\n",
        "\n",
        "for i, (images, labels) in enumerate(generator_val):\n",
        "    if i >= num_batches:\n",
        "        break\n",
        "    predictions = cnn_model.predict(images)\n",
        "    y_true.extend(np.argmax(labels, axis=1))\n",
        "    y_pred.extend(np.argmax(predictions, axis=1))\n",
        "\n",
        "plt.figure(figsize=(12, 8))\n",
        "conf_matrix = confusion_matrix(y_true, y_pred)\n",
        "disp = ConfusionMatrixDisplay(confusion_matrix=conf_matrix, display_labels=class_names)\n",
        "disp.plot(cmap=plt.cm.Blues)\n",
        "plt.xticks(rotation=90)\n",
        "plt.show()\n"
      ]
    }
  ],
  "metadata": {
    "accelerator": "GPU",
    "colab": {
      "gpuType": "T4",
      "provenance": []
    },
    "kernelspec": {
      "display_name": "Python 3",
      "name": "python3"
    },
    "language_info": {
      "codemirror_mode": {
        "name": "ipython",
        "version": 3
      },
      "file_extension": ".py",
      "mimetype": "text/x-python",
      "name": "python",
      "nbconvert_exporter": "python",
      "pygments_lexer": "ipython3",
      "version": "3.11.9"
    }
  },
  "nbformat": 4,
  "nbformat_minor": 0
}
